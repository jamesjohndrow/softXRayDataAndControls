{
 "cells": [
  {
   "cell_type": "code",
   "execution_count": 150,
   "metadata": {},
   "outputs": [],
   "source": [
    "from pylab import *\n",
    "import h5py\n",
    "from scipy.optimize import curve_fit\n",
    "#from scipy.stats import binned_statistic_dd\n",
    "from lib.analysis_library import vectorized_binned_statistic_dd\n",
    "import filter_masks\n",
    "import pickle"
   ]
  },
  {
   "cell_type": "code",
   "execution_count": 151,
   "metadata": {},
   "outputs": [],
   "source": [
    "def t_func(r,median_truncation):\n",
    "\ttry:\n",
    "\t\ttemp = np.array([pickle.loads(i) for i in r])\n",
    "\t\n",
    "\t\tx=temp[:,0]\n",
    "\t\ty=temp[:,1]\n",
    "\n",
    "\n",
    "\t\tmyLength=len(y)\n",
    "\t\tthreshold=median_truncation/400.0\n",
    "\t\tySortedIndex = np.argsort(y)\n",
    "\t\ty = y[ySortedIndex][int(threshold*myLength):int(myLength*(1-1*threshold))]\n",
    "\t\tx = x[ySortedIndex][int(threshold*myLength):int(myLength*(1-1*threshold))]\n",
    "\t\n",
    "\t\txSortedIndex = np.argsort(x)\n",
    "\t\ty = y[xSortedIndex][int(threshold*myLength):int(myLength*(1-1*threshold))]\n",
    "\t\tx = x[xSortedIndex][int(threshold*myLength):int(myLength*(1-1*threshold))]\n",
    "\n",
    "\t\n",
    "\t\tmyCov = np.cov(x,y)\n",
    "\t\tsimple_slope = myCov[0,1]/myCov[0,0]\n",
    "\t\n",
    "\t\tnon_serialized_result = np.array([np.mean(y*1.0/x),np.mean(y)/np.mean(1.0*x),simple_slope])\n",
    "\t\t#serialized_result = pickle.dumps(non_serialized_result)\n",
    "\t\tdict_result = {'shot_by_shot_median':np.median(y*1.0/x),'shot_by_shot_average':np.mean(y*1.0/x),'median':np.median(y)/np.median(1.0*x),'average':np.mean(y)/np.mean(1.0*x),'slope':simple_slope}\n",
    "\texcept:\n",
    "\t\tdict_result = {'shot_by_shot_median':-9999.0,'shot_by_shot_average':-9999.0,'median':-9999.0,'average':-9999.0,'slope':-9999.0}\n",
    "\n",
    "\treturn dict_result"
   ]
  },
  {
   "cell_type": "code",
   "execution_count": 209,
   "metadata": {},
   "outputs": [],
   "source": [
    "#load data\n",
    "experiment_run_name = \"sxri0414run81\"\n",
    "my_file = experiment_run_name+\".h5\"\n",
    "my_hdf5_object = h5py.File(\"small_h5_data/\"+my_file,\"r\")"
   ]
  },
  {
   "cell_type": "code",
   "execution_count": 210,
   "metadata": {},
   "outputs": [],
   "source": [
    "#convert hdf5 to dict\n",
    "my_list = []\n",
    "def func(name, obj):\n",
    "    my_list.append(name)\n",
    "\n",
    "my_hdf5_object.visititems(func)\n",
    "my_dict = {}\n",
    "for i in my_list:\n",
    "    my_dict[i] = array(my_hdf5_object[i])"
   ]
  },
  {
   "cell_type": "code",
   "execution_count": 211,
   "metadata": {},
   "outputs": [],
   "source": [
    "#configuration parameters\n",
    "time_tool_sign = 1\n",
    "pixel_to_femtosecond = 0.0033444\n",
    "delay_stage_offset = min(my_dict['delayStage'])"
   ]
  },
  {
   "cell_type": "code",
   "execution_count": 212,
   "metadata": {},
   "outputs": [
    {
     "name": "stderr",
     "output_type": "stream",
     "text": [
      "/reg/data/ana13/sxr/sxri0414/res/automated_analysis/filter_masks.py:91: RuntimeWarning: invalid value encountered in greater\n",
      "  myMask = myMask * (array(myDict['gas_detector/f_11_ENRC'])>0.3)\n"
     ]
    }
   ],
   "source": [
    "#make mask\n",
    "my_mask =  filter_masks.__dict__[experiment_run_name](my_dict)\n",
    "my_mask *=  (my_dict['timeToolOpal/time_pixel']>200)\n",
    "my_mask *=  (my_dict['timeToolOpal/time_pixel']<500)"
   ]
  },
  {
   "cell_type": "code",
   "execution_count": 213,
   "metadata": {},
   "outputs": [],
   "source": [
    "my_dict['corrected_time'] = (2/.3*(my_dict['delayStage']-delay_stage_offset)+time_tool_sign*(my_dict['TSS_OPAL/pixelTime']-mean(my_dict['TSS_OPAL/pixelTime'][my_mask]))*pixel_to_femtosecond )"
   ]
  },
  {
   "cell_type": "code",
   "execution_count": 214,
   "metadata": {},
   "outputs": [
    {
     "data": {
      "image/png": "[encoded data removed]",
      "text/plain": [
       "<matplotlib.figure.Figure at 0x7f8f62903f60>"
      ]
     },
     "metadata": {},
     "output_type": "display_data"
    }
   ],
   "source": [
    "subplot(121)\n",
    "plot(my_dict['GMD'][my_mask],my_dict['acqiris2/amplitude'][my_mask],'.')\n",
    "ylim(-0.1,1)\n",
    "subplot(122)\n",
    "hist(my_dict['corrected_time'],bins=arange(-1,50))\n",
    "show()"
   ]
  },
  {
   "cell_type": "code",
   "execution_count": 215,
   "metadata": {},
   "outputs": [
    {
     "data": {
      "image/png": "[encoded data removed]",
      "text/plain": [
       "<matplotlib.figure.Figure at 0x7f8f6e9b9a90>"
      ]
     },
     "metadata": {},
     "output_type": "display_data"
    }
   ],
   "source": [
    "subplot(121)\n",
    "hist(abs(my_dict['timeToolOpal/uncertainty_cov'])**0.5,bins=arange(-0.1,1,0.01))\n",
    "subplot(122)\n",
    "hist(abs(my_dict['timeToolOpal/time_pixel']),bins=arange(200,550,4))\n",
    "show()"
   ]
  },
  {
   "cell_type": "code",
   "execution_count": 216,
   "metadata": {},
   "outputs": [],
   "source": [
    "truncation_value = 0.1\n",
    "def t_func_wrapper(r):\n",
    "\treturn t_func(r,truncation_value)\n",
    "x = my_dict['GMD'][my_mask]\n",
    "y = my_dict['acqiris2/amplitude'][my_mask]\n",
    "z = my_dict['corrected_time'][my_mask]\n",
    "myValues = array([x,y]).transpose()\n",
    "my_bins = arange(-5,30,0.1)"
   ]
  },
  {
   "cell_type": "code",
   "execution_count": 217,
   "metadata": {},
   "outputs": [
    {
     "name": "stderr",
     "output_type": "stream",
     "text": [
      "/reg/g/psdm/sw/conda/inst/miniconda2-prod-rhel7/envs/ana-1.2.9-py3/lib/python3.5/site-packages/numpy/core/_methods.py:59: RuntimeWarning: Mean of empty slice.\n",
      "  warnings.warn(\"Mean of empty slice.\", RuntimeWarning)\n",
      "/reg/g/psdm/sw/conda/inst/miniconda2-prod-rhel7/envs/ana-1.2.9-py3/lib/python3.5/site-packages/numpy/core/_methods.py:68: RuntimeWarning: invalid value encountered in true_divide\n",
      "  ret, rcount, out=ret, casting='unsafe', subok=False)\n",
      "/reg/g/psdm/sw/conda/inst/miniconda2-prod-rhel7/envs/ana-1.2.9-py3/lib/python3.5/site-packages/numpy/lib/function_base.py:2487: RuntimeWarning: Degrees of freedom <= 0 for slice\n",
      "  warnings.warn(\"Degrees of freedom <= 0 for slice\", RuntimeWarning)\n",
      "/reg/g/psdm/sw/conda/inst/miniconda2-prod-rhel7/envs/ana-1.2.9-py3/lib/python3.5/site-packages/numpy/lib/function_base.py:2496: RuntimeWarning: divide by zero encountered in double_scalars\n",
      "  c *= 1. / np.float64(fact)\n",
      "/reg/g/psdm/sw/conda/inst/miniconda2-prod-rhel7/envs/ana-1.2.9-py3/lib/python3.5/site-packages/numpy/lib/function_base.py:2496: RuntimeWarning: invalid value encountered in multiply\n",
      "  c *= 1. / np.float64(fact)\n",
      "/reg/g/psdm/sw/conda/inst/miniconda2-prod-rhel7/envs/ana-1.2.9-py3/lib/python3.5/site-packages/numpy/core/_methods.py:70: RuntimeWarning: invalid value encountered in double_scalars\n",
      "  ret = ret.dtype.type(ret / rcount)\n"
     ]
    }
   ],
   "source": [
    "my_results = vectorized_binned_statistic_dd(z,myValues,bins=[my_bins],statistic=t_func_wrapper)"
   ]
  },
  {
   "cell_type": "code",
   "execution_count": 229,
   "metadata": {},
   "outputs": [
    {
     "data": {
      "image/png": "[encoded data removed]",
      "text/plain": [
       "<matplotlib.figure.Figure at 0x7f8f62840198>"
      ]
     },
     "metadata": {},
     "output_type": "display_data"
    }
   ],
   "source": [
    "plot(my_bins[:-1],my_results['average'][::-1])\n",
    "#ylim(max(my_results['average'])*0.9,max(my_results['average'])*1.01)\n",
    "ylim(90,120)\n",
    "#xlim(4,26)\n",
    "show()"
   ]
  },
  {
   "cell_type": "code",
   "execution_count": 2,
   "metadata": {},
   "outputs": [],
   "source": [
    "%matplotlib agg"
   ]
  },
  {
   "cell_type": "code",
   "execution_count": 2,
   "metadata": {},
   "outputs": [
    {
     "name": "stdout",
     "output_type": "stream",
     "text": [
      "Available matplotlib backends: ['qt5', 'inline', 'wx', 'notebook', 'agg', 'ipympl', 'qt4', 'nbagg', 'tk', 'osx', 'qt', 'gtk', 'gtk3']\n"
     ]
    }
   ],
   "source": [
    "%matplotlib -l"
   ]
  },
  {
   "cell_type": "code",
   "execution_count": null,
   "metadata": {},
   "outputs": [],
   "source": []
  }
 ],
 "metadata": {
  "kernelspec": {
   "display_name": "Python 3 ana-1.2.9-py3",
   "language": "python",
   "name": "ana-1.2.9-py3"
  },
  "language_info": {
   "codemirror_mode": {
    "name": "ipython",
    "version": 3
   },
   "file_extension": ".py",
   "mimetype": "text/x-python",
   "name": "python",
   "nbconvert_exporter": "python",
   "pygments_lexer": "ipython3",
   "version": "3.5.3"
  }
 },
 "nbformat": 4,
 "nbformat_minor": 2
}
